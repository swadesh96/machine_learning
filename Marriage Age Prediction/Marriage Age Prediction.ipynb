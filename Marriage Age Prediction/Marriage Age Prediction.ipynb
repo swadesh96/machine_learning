{
 "cells": [
  {
   "cell_type": "code",
   "execution_count": 1,
   "metadata": {},
   "outputs": [],
   "source": [
    "import os\n",
    "import pandas as pd\n",
    "import numpy as np\n",
    "import matplotlib.pyplot as plt\n",
    "import seaborn as sns\n"
   ]
  },
  {
   "cell_type": "code",
   "execution_count": 2,
   "metadata": {},
   "outputs": [],
   "source": [
    "os.chdir(\"D:\\Datasets\")"
   ]
  },
  {
   "cell_type": "code",
   "execution_count": 3,
   "metadata": {},
   "outputs": [],
   "source": [
    "marriage_data = pd.read_csv(\"age_of_marriage_data.csv\")"
   ]
  },
  {
   "cell_type": "code",
   "execution_count": 17,
   "metadata": {},
   "outputs": [
    {
     "data": {
      "text/html": [
       "<div>\n",
       "<style scoped>\n",
       "    .dataframe tbody tr th:only-of-type {\n",
       "        vertical-align: middle;\n",
       "    }\n",
       "\n",
       "    .dataframe tbody tr th {\n",
       "        vertical-align: top;\n",
       "    }\n",
       "\n",
       "    .dataframe thead th {\n",
       "        text-align: right;\n",
       "    }\n",
       "</style>\n",
       "<table border=\"1\" class=\"dataframe\">\n",
       "  <thead>\n",
       "    <tr style=\"text-align: right;\">\n",
       "      <th></th>\n",
       "      <th>id</th>\n",
       "      <th>gender</th>\n",
       "      <th>height</th>\n",
       "      <th>religion</th>\n",
       "      <th>caste</th>\n",
       "      <th>mother_tongue</th>\n",
       "      <th>profession</th>\n",
       "      <th>location</th>\n",
       "      <th>country</th>\n",
       "      <th>age_of_marriage</th>\n",
       "    </tr>\n",
       "  </thead>\n",
       "  <tbody>\n",
       "    <tr>\n",
       "      <th>1</th>\n",
       "      <td>2</td>\n",
       "      <td>male</td>\n",
       "      <td>5'7\"</td>\n",
       "      <td>Jain</td>\n",
       "      <td>Shwetamber</td>\n",
       "      <td>Gujarati</td>\n",
       "      <td>Doctor / Healthcare Professional</td>\n",
       "      <td>Fairfax- VA</td>\n",
       "      <td>USA</td>\n",
       "      <td>32.0</td>\n",
       "    </tr>\n",
       "    <tr>\n",
       "      <th>2</th>\n",
       "      <td>3</td>\n",
       "      <td>male</td>\n",
       "      <td>5'7\"</td>\n",
       "      <td>Hindu</td>\n",
       "      <td>Brahmin</td>\n",
       "      <td>Hindi</td>\n",
       "      <td>Entrepreneurs / Business</td>\n",
       "      <td>Begusarai</td>\n",
       "      <td>India</td>\n",
       "      <td>32.0</td>\n",
       "    </tr>\n",
       "    <tr>\n",
       "      <th>3</th>\n",
       "      <td>4</td>\n",
       "      <td>female</td>\n",
       "      <td>5'0\"</td>\n",
       "      <td>Hindu</td>\n",
       "      <td>Thakur</td>\n",
       "      <td>Hindi</td>\n",
       "      <td>Architect</td>\n",
       "      <td>Mumbai</td>\n",
       "      <td>India</td>\n",
       "      <td>30.0</td>\n",
       "    </tr>\n",
       "    <tr>\n",
       "      <th>4</th>\n",
       "      <td>5</td>\n",
       "      <td>male</td>\n",
       "      <td>5'5\"</td>\n",
       "      <td>Christian</td>\n",
       "      <td>Born Again</td>\n",
       "      <td>Malayalam</td>\n",
       "      <td>Sales Professional / Marketing</td>\n",
       "      <td>Sulthan Bathery</td>\n",
       "      <td>India</td>\n",
       "      <td>30.0</td>\n",
       "    </tr>\n",
       "    <tr>\n",
       "      <th>5</th>\n",
       "      <td>6</td>\n",
       "      <td>male</td>\n",
       "      <td>5'5\"</td>\n",
       "      <td>Hindu</td>\n",
       "      <td>Valmiki</td>\n",
       "      <td>Hindi</td>\n",
       "      <td>Sportsman</td>\n",
       "      <td>Delhi</td>\n",
       "      <td>India</td>\n",
       "      <td>29.0</td>\n",
       "    </tr>\n",
       "  </tbody>\n",
       "</table>\n",
       "</div>"
      ],
      "text/plain": [
       "   id  gender height   religion        caste mother_tongue  \\\n",
       "1   2    male   5'7\"       Jain   Shwetamber      Gujarati   \n",
       "2   3    male   5'7\"      Hindu      Brahmin         Hindi   \n",
       "3   4  female   5'0\"      Hindu       Thakur         Hindi   \n",
       "4   5    male   5'5\"  Christian   Born Again     Malayalam   \n",
       "5   6    male   5'5\"      Hindu      Valmiki         Hindi   \n",
       "\n",
       "                         profession         location country  age_of_marriage  \n",
       "1  Doctor / Healthcare Professional      Fairfax- VA     USA             32.0  \n",
       "2         Entrepreneurs / Business         Begusarai   India             32.0  \n",
       "3                         Architect           Mumbai   India             30.0  \n",
       "4    Sales Professional / Marketing  Sulthan Bathery   India             30.0  \n",
       "5                         Sportsman            Delhi   India             29.0  "
      ]
     },
     "execution_count": 17,
     "metadata": {},
     "output_type": "execute_result"
    }
   ],
   "source": [
    "marriage_data.head()"
   ]
  },
  {
   "cell_type": "code",
   "execution_count": 18,
   "metadata": {},
   "outputs": [
    {
     "data": {
      "text/html": [
       "<div>\n",
       "<style scoped>\n",
       "    .dataframe tbody tr th:only-of-type {\n",
       "        vertical-align: middle;\n",
       "    }\n",
       "\n",
       "    .dataframe tbody tr th {\n",
       "        vertical-align: top;\n",
       "    }\n",
       "\n",
       "    .dataframe thead th {\n",
       "        text-align: right;\n",
       "    }\n",
       "</style>\n",
       "<table border=\"1\" class=\"dataframe\">\n",
       "  <thead>\n",
       "    <tr style=\"text-align: right;\">\n",
       "      <th></th>\n",
       "      <th>id</th>\n",
       "      <th>gender</th>\n",
       "      <th>height</th>\n",
       "      <th>religion</th>\n",
       "      <th>caste</th>\n",
       "      <th>mother_tongue</th>\n",
       "      <th>profession</th>\n",
       "      <th>location</th>\n",
       "      <th>country</th>\n",
       "      <th>age_of_marriage</th>\n",
       "    </tr>\n",
       "  </thead>\n",
       "  <tbody>\n",
       "    <tr>\n",
       "      <th>2561</th>\n",
       "      <td>2562</td>\n",
       "      <td>male</td>\n",
       "      <td>5'11\"</td>\n",
       "      <td>Hindu</td>\n",
       "      <td>Kshatriya</td>\n",
       "      <td>Odia</td>\n",
       "      <td>VP / AVP / GM / DGM</td>\n",
       "      <td>Mumbai</td>\n",
       "      <td>India</td>\n",
       "      <td>30.0</td>\n",
       "    </tr>\n",
       "    <tr>\n",
       "      <th>2562</th>\n",
       "      <td>2563</td>\n",
       "      <td>female</td>\n",
       "      <td>5'3\"</td>\n",
       "      <td>Hindu</td>\n",
       "      <td>Thakur</td>\n",
       "      <td>Hindi</td>\n",
       "      <td>Banking Professional</td>\n",
       "      <td>Agra</td>\n",
       "      <td>India</td>\n",
       "      <td>27.0</td>\n",
       "    </tr>\n",
       "    <tr>\n",
       "      <th>2563</th>\n",
       "      <td>2564</td>\n",
       "      <td>male</td>\n",
       "      <td>5'11\"</td>\n",
       "      <td>Hindu</td>\n",
       "      <td>Thakur</td>\n",
       "      <td>Hindi</td>\n",
       "      <td>Software Professional</td>\n",
       "      <td>Ottawa</td>\n",
       "      <td>Canada</td>\n",
       "      <td>31.0</td>\n",
       "    </tr>\n",
       "    <tr>\n",
       "      <th>2564</th>\n",
       "      <td>2565</td>\n",
       "      <td>female</td>\n",
       "      <td>5'3\"</td>\n",
       "      <td>Hindu</td>\n",
       "      <td>Baishya</td>\n",
       "      <td>Bengali</td>\n",
       "      <td>Software Consultant</td>\n",
       "      <td>Bengaluru / Bangalore</td>\n",
       "      <td>India</td>\n",
       "      <td>28.0</td>\n",
       "    </tr>\n",
       "    <tr>\n",
       "      <th>2566</th>\n",
       "      <td>2567</td>\n",
       "      <td>female</td>\n",
       "      <td>5'2\"</td>\n",
       "      <td>Christian</td>\n",
       "      <td>Marthoma</td>\n",
       "      <td>Malayalam</td>\n",
       "      <td>Software Professional</td>\n",
       "      <td>Pune</td>\n",
       "      <td>India</td>\n",
       "      <td>32.0</td>\n",
       "    </tr>\n",
       "  </tbody>\n",
       "</table>\n",
       "</div>"
      ],
      "text/plain": [
       "        id  gender height   religion       caste mother_tongue  \\\n",
       "2561  2562    male  5'11\"      Hindu   Kshatriya          Odia   \n",
       "2562  2563  female   5'3\"      Hindu      Thakur         Hindi   \n",
       "2563  2564    male  5'11\"      Hindu      Thakur         Hindi   \n",
       "2564  2565  female   5'3\"      Hindu     Baishya       Bengali   \n",
       "2566  2567  female   5'2\"  Christian    Marthoma     Malayalam   \n",
       "\n",
       "                 profession               location  country  age_of_marriage  \n",
       "2561    VP / AVP / GM / DGM                 Mumbai    India             30.0  \n",
       "2562   Banking Professional                   Agra    India             27.0  \n",
       "2563  Software Professional                 Ottawa   Canada             31.0  \n",
       "2564    Software Consultant  Bengaluru / Bangalore    India             28.0  \n",
       "2566  Software Professional                   Pune    India             32.0  "
      ]
     },
     "execution_count": 18,
     "metadata": {},
     "output_type": "execute_result"
    }
   ],
   "source": [
    "marriage_data.tail()"
   ]
  },
  {
   "cell_type": "code",
   "execution_count": 9,
   "metadata": {},
   "outputs": [
    {
     "data": {
      "text/plain": [
       "(2567, 10)"
      ]
     },
     "execution_count": 9,
     "metadata": {},
     "output_type": "execute_result"
    }
   ],
   "source": [
    "marriage_data.shape"
   ]
  },
  {
   "cell_type": "code",
   "execution_count": 7,
   "metadata": {},
   "outputs": [
    {
     "name": "stdout",
     "output_type": "stream",
     "text": [
      "<class 'pandas.core.frame.DataFrame'>\n",
      "RangeIndex: 2567 entries, 0 to 2566\n",
      "Data columns (total 10 columns):\n",
      " #   Column           Non-Null Count  Dtype  \n",
      "---  ------           --------------  -----  \n",
      " 0   id               2567 non-null   int64  \n",
      " 1   gender           2538 non-null   object \n",
      " 2   height           2449 non-null   object \n",
      " 3   religion         1932 non-null   object \n",
      " 4   caste            2425 non-null   object \n",
      " 5   mother_tongue    2403 non-null   object \n",
      " 6   profession       2237 non-null   object \n",
      " 7   location         2412 non-null   object \n",
      " 8   country          2551 non-null   object \n",
      " 9   age_of_marriage  2548 non-null   float64\n",
      "dtypes: float64(1), int64(1), object(8)\n",
      "memory usage: 200.7+ KB\n"
     ]
    }
   ],
   "source": [
    "marriage_data.info()"
   ]
  },
  {
   "cell_type": "code",
   "execution_count": 11,
   "metadata": {},
   "outputs": [
    {
     "data": {
      "text/plain": [
       "id                   0\n",
       "gender              29\n",
       "height             118\n",
       "religion           635\n",
       "caste              142\n",
       "mother_tongue      164\n",
       "profession         330\n",
       "location           155\n",
       "country             16\n",
       "age_of_marriage     19\n",
       "dtype: int64"
      ]
     },
     "execution_count": 11,
     "metadata": {},
     "output_type": "execute_result"
    }
   ],
   "source": [
    "marriage_data.isnull().sum()"
   ]
  },
  {
   "cell_type": "code",
   "execution_count": 14,
   "metadata": {},
   "outputs": [],
   "source": [
    "marriage_data.dropna(axis = 0,inplace = True)"
   ]
  },
  {
   "cell_type": "code",
   "execution_count": 15,
   "metadata": {},
   "outputs": [
    {
     "data": {
      "text/plain": [
       "(1932, 10)"
      ]
     },
     "execution_count": 15,
     "metadata": {},
     "output_type": "execute_result"
    }
   ],
   "source": [
    "marriage_data.shape"
   ]
  },
  {
   "cell_type": "code",
   "execution_count": 29,
   "metadata": {},
   "outputs": [
    {
     "data": {
      "text/plain": [
       "id                 0\n",
       "gender             0\n",
       "height             0\n",
       "religion           0\n",
       "caste              0\n",
       "mother_tongue      0\n",
       "profession         0\n",
       "location           0\n",
       "country            0\n",
       "age_of_marriage    0\n",
       "dtype: int64"
      ]
     },
     "execution_count": 29,
     "metadata": {},
     "output_type": "execute_result"
    }
   ],
   "source": [
    "marriage_data.isnull().sum()"
   ]
  },
  {
   "cell_type": "code",
   "execution_count": 37,
   "metadata": {},
   "outputs": [
    {
     "data": {
      "text/plain": [
       "<matplotlib.axes._subplots.AxesSubplot at 0x5279467488>"
      ]
     },
     "execution_count": 37,
     "metadata": {},
     "output_type": "execute_result"
    },
    {
     "data": {
      "image/png": "[encoded data removed]",
      "text/plain": [
       "<Figure size 432x288 with 1 Axes>"
      ]
     },
     "metadata": {
      "needs_background": "light"
     },
     "output_type": "display_data"
    }
   ],
   "source": [
    "sns.distplot(marriage_data['age_of_marriage'])"
   ]
  },
  {
   "cell_type": "code",
   "execution_count": 42,
   "metadata": {},
   "outputs": [
    {
     "data": {
      "text/plain": [
       "<matplotlib.axes._subplots.AxesSubplot at 0x5279808308>"
      ]
     },
     "execution_count": 42,
     "metadata": {},
     "output_type": "execute_result"
    },
    {
     "data": {
      "image/png": "[encoded data removed]",
      "text/plain": [
       "<Figure size 432x288 with 1 Axes>"
      ]
     },
     "metadata": {
      "needs_background": "light"
     },
     "output_type": "display_data"
    }
   ],
   "source": [
    "sns.countplot(x = marriage_data.gender)"
   ]
  },
  {
   "cell_type": "code",
   "execution_count": 46,
   "metadata": {},
   "outputs": [
    {
     "data": {
      "text/plain": [
       "Hindu        1576\n",
       "Sikh          150\n",
       "Christian     120\n",
       "Jain           46\n",
       "Muslim         40\n",
       "Name: religion, dtype: int64"
      ]
     },
     "execution_count": 46,
     "metadata": {},
     "output_type": "execute_result"
    }
   ],
   "source": [
    "marriage_data['religion'].value_counts()"
   ]
  },
  {
   "cell_type": "code",
   "execution_count": 47,
   "metadata": {},
   "outputs": [
    {
     "data": {
      "text/plain": [
       " India                   1689\n",
       " USA                      113\n",
       " Canada                    33\n",
       " United Arab Emirates      24\n",
       " United Kingdom            19\n",
       " Australia                 18\n",
       " New Zealand                6\n",
       " Bangladesh                 4\n",
       " Pakistan                   4\n",
       " Kuwait                     4\n",
       " Malaysia                   3\n",
       " Germany                    2\n",
       " Singapore                  2\n",
       " Qatar                      2\n",
       " Netherlands                2\n",
       " South Africa               1\n",
       " Philippines                1\n",
       " Oman                       1\n",
       " Norway                     1\n",
       " Bahrain                    1\n",
       " Ireland                    1\n",
       " Myanmar                    1\n",
       "Name: country, dtype: int64"
      ]
     },
     "execution_count": 47,
     "metadata": {},
     "output_type": "execute_result"
    }
   ],
   "source": [
    "marriage_data['country'].value_counts()"
   ]
  },
  {
   "cell_type": "code",
   "execution_count": 49,
   "metadata": {},
   "outputs": [],
   "source": [
    "marriage_data.drop('id', axis = 1, inplace = True)"
   ]
  },
  {
   "cell_type": "code",
   "execution_count": 94,
   "metadata": {},
   "outputs": [
    {
     "data": {
      "text/html": [
       "<div>\n",
       "<style scoped>\n",
       "    .dataframe tbody tr th:only-of-type {\n",
       "        vertical-align: middle;\n",
       "    }\n",
       "\n",
       "    .dataframe tbody tr th {\n",
       "        vertical-align: top;\n",
       "    }\n",
       "\n",
       "    .dataframe thead th {\n",
       "        text-align: right;\n",
       "    }\n",
       "</style>\n",
       "<table border=\"1\" class=\"dataframe\">\n",
       "  <thead>\n",
       "    <tr style=\"text-align: right;\">\n",
       "      <th></th>\n",
       "      <th>gender</th>\n",
       "      <th>height</th>\n",
       "      <th>religion</th>\n",
       "      <th>caste</th>\n",
       "      <th>mother_tongue</th>\n",
       "      <th>profession</th>\n",
       "      <th>location</th>\n",
       "      <th>country</th>\n",
       "      <th>age_of_marriage</th>\n",
       "    </tr>\n",
       "  </thead>\n",
       "  <tbody>\n",
       "    <tr>\n",
       "      <th>1</th>\n",
       "      <td>male</td>\n",
       "      <td>5'7\"</td>\n",
       "      <td>Jain</td>\n",
       "      <td>Shwetamber</td>\n",
       "      <td>Gujarati</td>\n",
       "      <td>Doctor / Healthcare Professional</td>\n",
       "      <td>Fairfax- VA</td>\n",
       "      <td>USA</td>\n",
       "      <td>32.0</td>\n",
       "    </tr>\n",
       "    <tr>\n",
       "      <th>2</th>\n",
       "      <td>male</td>\n",
       "      <td>5'7\"</td>\n",
       "      <td>Hindu</td>\n",
       "      <td>Brahmin</td>\n",
       "      <td>Hindi</td>\n",
       "      <td>Entrepreneurs / Business</td>\n",
       "      <td>Begusarai</td>\n",
       "      <td>India</td>\n",
       "      <td>32.0</td>\n",
       "    </tr>\n",
       "    <tr>\n",
       "      <th>3</th>\n",
       "      <td>female</td>\n",
       "      <td>5'0\"</td>\n",
       "      <td>Hindu</td>\n",
       "      <td>Thakur</td>\n",
       "      <td>Hindi</td>\n",
       "      <td>Architect</td>\n",
       "      <td>Mumbai</td>\n",
       "      <td>India</td>\n",
       "      <td>30.0</td>\n",
       "    </tr>\n",
       "    <tr>\n",
       "      <th>4</th>\n",
       "      <td>male</td>\n",
       "      <td>5'5\"</td>\n",
       "      <td>Christian</td>\n",
       "      <td>Born Again</td>\n",
       "      <td>Malayalam</td>\n",
       "      <td>Sales Professional / Marketing</td>\n",
       "      <td>Sulthan Bathery</td>\n",
       "      <td>India</td>\n",
       "      <td>30.0</td>\n",
       "    </tr>\n",
       "    <tr>\n",
       "      <th>5</th>\n",
       "      <td>male</td>\n",
       "      <td>5'5\"</td>\n",
       "      <td>Hindu</td>\n",
       "      <td>Valmiki</td>\n",
       "      <td>Hindi</td>\n",
       "      <td>Sportsman</td>\n",
       "      <td>Delhi</td>\n",
       "      <td>India</td>\n",
       "      <td>29.0</td>\n",
       "    </tr>\n",
       "  </tbody>\n",
       "</table>\n",
       "</div>"
      ],
      "text/plain": [
       "   gender height   religion        caste mother_tongue  \\\n",
       "1    male   5'7\"       Jain   Shwetamber      Gujarati   \n",
       "2    male   5'7\"      Hindu      Brahmin         Hindi   \n",
       "3  female   5'0\"      Hindu       Thakur         Hindi   \n",
       "4    male   5'5\"  Christian   Born Again     Malayalam   \n",
       "5    male   5'5\"      Hindu      Valmiki         Hindi   \n",
       "\n",
       "                         profession         location country  age_of_marriage  \n",
       "1  Doctor / Healthcare Professional      Fairfax- VA     USA             32.0  \n",
       "2         Entrepreneurs / Business         Begusarai   India             32.0  \n",
       "3                         Architect           Mumbai   India             30.0  \n",
       "4    Sales Professional / Marketing  Sulthan Bathery   India             30.0  \n",
       "5                         Sportsman            Delhi   India             29.0  "
      ]
     },
     "execution_count": 94,
     "metadata": {},
     "output_type": "execute_result"
    }
   ],
   "source": [
    "marriage_data.head()"
   ]
  },
  {
   "cell_type": "code",
   "execution_count": 97,
   "metadata": {},
   "outputs": [],
   "source": [
    "x = marriage_data.iloc[:,[0,1,2,3,4,7]]\n"
   ]
  },
  {
   "cell_type": "code",
   "execution_count": 99,
   "metadata": {},
   "outputs": [
    {
     "data": {
      "text/html": [
       "<div>\n",
       "<style scoped>\n",
       "    .dataframe tbody tr th:only-of-type {\n",
       "        vertical-align: middle;\n",
       "    }\n",
       "\n",
       "    .dataframe tbody tr th {\n",
       "        vertical-align: top;\n",
       "    }\n",
       "\n",
       "    .dataframe thead th {\n",
       "        text-align: right;\n",
       "    }\n",
       "</style>\n",
       "<table border=\"1\" class=\"dataframe\">\n",
       "  <thead>\n",
       "    <tr style=\"text-align: right;\">\n",
       "      <th></th>\n",
       "      <th>gender</th>\n",
       "      <th>height</th>\n",
       "      <th>religion</th>\n",
       "      <th>caste</th>\n",
       "      <th>mother_tongue</th>\n",
       "      <th>country</th>\n",
       "    </tr>\n",
       "  </thead>\n",
       "  <tbody>\n",
       "    <tr>\n",
       "      <th>1</th>\n",
       "      <td>male</td>\n",
       "      <td>5'7\"</td>\n",
       "      <td>Jain</td>\n",
       "      <td>Shwetamber</td>\n",
       "      <td>Gujarati</td>\n",
       "      <td>USA</td>\n",
       "    </tr>\n",
       "    <tr>\n",
       "      <th>2</th>\n",
       "      <td>male</td>\n",
       "      <td>5'7\"</td>\n",
       "      <td>Hindu</td>\n",
       "      <td>Brahmin</td>\n",
       "      <td>Hindi</td>\n",
       "      <td>India</td>\n",
       "    </tr>\n",
       "    <tr>\n",
       "      <th>3</th>\n",
       "      <td>female</td>\n",
       "      <td>5'0\"</td>\n",
       "      <td>Hindu</td>\n",
       "      <td>Thakur</td>\n",
       "      <td>Hindi</td>\n",
       "      <td>India</td>\n",
       "    </tr>\n",
       "    <tr>\n",
       "      <th>4</th>\n",
       "      <td>male</td>\n",
       "      <td>5'5\"</td>\n",
       "      <td>Christian</td>\n",
       "      <td>Born Again</td>\n",
       "      <td>Malayalam</td>\n",
       "      <td>India</td>\n",
       "    </tr>\n",
       "    <tr>\n",
       "      <th>5</th>\n",
       "      <td>male</td>\n",
       "      <td>5'5\"</td>\n",
       "      <td>Hindu</td>\n",
       "      <td>Valmiki</td>\n",
       "      <td>Hindi</td>\n",
       "      <td>India</td>\n",
       "    </tr>\n",
       "  </tbody>\n",
       "</table>\n",
       "</div>"
      ],
      "text/plain": [
       "   gender height   religion        caste mother_tongue country\n",
       "1    male   5'7\"       Jain   Shwetamber      Gujarati     USA\n",
       "2    male   5'7\"      Hindu      Brahmin         Hindi   India\n",
       "3  female   5'0\"      Hindu       Thakur         Hindi   India\n",
       "4    male   5'5\"  Christian   Born Again     Malayalam   India\n",
       "5    male   5'5\"      Hindu      Valmiki         Hindi   India"
      ]
     },
     "execution_count": 99,
     "metadata": {},
     "output_type": "execute_result"
    }
   ],
   "source": [
    "x.head()"
   ]
  },
  {
   "cell_type": "code",
   "execution_count": 100,
   "metadata": {},
   "outputs": [],
   "source": [
    "y = marriage_data.iloc[:,[8]]"
   ]
  },
  {
   "cell_type": "code",
   "execution_count": 101,
   "metadata": {},
   "outputs": [
    {
     "data": {
      "text/html": [
       "<div>\n",
       "<style scoped>\n",
       "    .dataframe tbody tr th:only-of-type {\n",
       "        vertical-align: middle;\n",
       "    }\n",
       "\n",
       "    .dataframe tbody tr th {\n",
       "        vertical-align: top;\n",
       "    }\n",
       "\n",
       "    .dataframe thead th {\n",
       "        text-align: right;\n",
       "    }\n",
       "</style>\n",
       "<table border=\"1\" class=\"dataframe\">\n",
       "  <thead>\n",
       "    <tr style=\"text-align: right;\">\n",
       "      <th></th>\n",
       "      <th>age_of_marriage</th>\n",
       "    </tr>\n",
       "  </thead>\n",
       "  <tbody>\n",
       "    <tr>\n",
       "      <th>1</th>\n",
       "      <td>32.0</td>\n",
       "    </tr>\n",
       "    <tr>\n",
       "      <th>2</th>\n",
       "      <td>32.0</td>\n",
       "    </tr>\n",
       "    <tr>\n",
       "      <th>3</th>\n",
       "      <td>30.0</td>\n",
       "    </tr>\n",
       "    <tr>\n",
       "      <th>4</th>\n",
       "      <td>30.0</td>\n",
       "    </tr>\n",
       "    <tr>\n",
       "      <th>5</th>\n",
       "      <td>29.0</td>\n",
       "    </tr>\n",
       "  </tbody>\n",
       "</table>\n",
       "</div>"
      ],
      "text/plain": [
       "   age_of_marriage\n",
       "1             32.0\n",
       "2             32.0\n",
       "3             30.0\n",
       "4             30.0\n",
       "5             29.0"
      ]
     },
     "execution_count": 101,
     "metadata": {},
     "output_type": "execute_result"
    }
   ],
   "source": [
    "y.head()"
   ]
  },
  {
   "cell_type": "code",
   "execution_count": 90,
   "metadata": {},
   "outputs": [],
   "source": [
    "from sklearn.preprocessing import LabelEncoder"
   ]
  },
  {
   "cell_type": "code",
   "execution_count": 91,
   "metadata": {},
   "outputs": [],
   "source": [
    "label = LabelEncoder()"
   ]
  },
  {
   "cell_type": "code",
   "execution_count": 103,
   "metadata": {},
   "outputs": [
    {
     "name": "stderr",
     "output_type": "stream",
     "text": [
      "C:\\Users\\Swadesh Das\\Anaconda3\\lib\\site-packages\\pandas\\core\\indexing.py:670: SettingWithCopyWarning: \n",
      "A value is trying to be set on a copy of a slice from a DataFrame\n",
      "\n",
      "See the caveats in the documentation: https://pandas.pydata.org/pandas-docs/stable/user_guide/indexing.html#returning-a-view-versus-a-copy\n",
      "  self._setitem_with_indexer(indexer, value)\n",
      "C:\\Users\\Swadesh Das\\Anaconda3\\lib\\site-packages\\ipykernel_launcher.py:4: SettingWithCopyWarning: \n",
      "A value is trying to be set on a copy of a slice from a DataFrame\n",
      "\n",
      "See the caveats in the documentation: https://pandas.pydata.org/pandas-docs/stable/user_guide/indexing.html#returning-a-view-versus-a-copy\n",
      "  after removing the cwd from sys.path.\n"
     ]
    }
   ],
   "source": [
    "from sklearn.preprocessing import LabelEncoder\n",
    "enc = LabelEncoder()\n",
    "x.loc[:,['gender','religion','caste','mother_tongue','country']]= \\\n",
    "x.loc[:,['gender','religion','caste','mother_tongue','country']].apply(enc.fit_transform)"
   ]
  },
  {
   "cell_type": "code",
   "execution_count": 105,
   "metadata": {},
   "outputs": [
    {
     "data": {
      "text/html": [
       "<div>\n",
       "<style scoped>\n",
       "    .dataframe tbody tr th:only-of-type {\n",
       "        vertical-align: middle;\n",
       "    }\n",
       "\n",
       "    .dataframe tbody tr th {\n",
       "        vertical-align: top;\n",
       "    }\n",
       "\n",
       "    .dataframe thead th {\n",
       "        text-align: right;\n",
       "    }\n",
       "</style>\n",
       "<table border=\"1\" class=\"dataframe\">\n",
       "  <thead>\n",
       "    <tr style=\"text-align: right;\">\n",
       "      <th></th>\n",
       "      <th>gender</th>\n",
       "      <th>height</th>\n",
       "      <th>religion</th>\n",
       "      <th>caste</th>\n",
       "      <th>mother_tongue</th>\n",
       "      <th>country</th>\n",
       "    </tr>\n",
       "  </thead>\n",
       "  <tbody>\n",
       "    <tr>\n",
       "      <th>1</th>\n",
       "      <td>1</td>\n",
       "      <td>5'7\"</td>\n",
       "      <td>2</td>\n",
       "      <td>34</td>\n",
       "      <td>6</td>\n",
       "      <td>19</td>\n",
       "    </tr>\n",
       "    <tr>\n",
       "      <th>2</th>\n",
       "      <td>1</td>\n",
       "      <td>5'7\"</td>\n",
       "      <td>1</td>\n",
       "      <td>14</td>\n",
       "      <td>8</td>\n",
       "      <td>5</td>\n",
       "    </tr>\n",
       "    <tr>\n",
       "      <th>3</th>\n",
       "      <td>0</td>\n",
       "      <td>5'0\"</td>\n",
       "      <td>1</td>\n",
       "      <td>36</td>\n",
       "      <td>8</td>\n",
       "      <td>5</td>\n",
       "    </tr>\n",
       "    <tr>\n",
       "      <th>4</th>\n",
       "      <td>1</td>\n",
       "      <td>5'5\"</td>\n",
       "      <td>0</td>\n",
       "      <td>13</td>\n",
       "      <td>13</td>\n",
       "      <td>5</td>\n",
       "    </tr>\n",
       "    <tr>\n",
       "      <th>5</th>\n",
       "      <td>1</td>\n",
       "      <td>5'5\"</td>\n",
       "      <td>1</td>\n",
       "      <td>38</td>\n",
       "      <td>8</td>\n",
       "      <td>5</td>\n",
       "    </tr>\n",
       "  </tbody>\n",
       "</table>\n",
       "</div>"
      ],
      "text/plain": [
       "  gender height religion caste mother_tongue country\n",
       "1      1   5'7\"        2    34             6      19\n",
       "2      1   5'7\"        1    14             8       5\n",
       "3      0   5'0\"        1    36             8       5\n",
       "4      1   5'5\"        0    13            13       5\n",
       "5      1   5'5\"        1    38             8       5"
      ]
     },
     "execution_count": 105,
     "metadata": {},
     "output_type": "execute_result"
    }
   ],
   "source": [
    "x.head()"
   ]
  },
  {
   "cell_type": "code",
   "execution_count": 106,
   "metadata": {},
   "outputs": [],
   "source": [
    "def h_cms(h):\n",
    "    return int(h.split('\\'')[0])*30.48+\\\n",
    "    int(h.split('\\'')[1].replace('\"',''))*2.54"
   ]
  },
  {
   "cell_type": "code",
   "execution_count": 107,
   "metadata": {},
   "outputs": [
    {
     "name": "stderr",
     "output_type": "stream",
     "text": [
      "C:\\Users\\Swadesh Das\\Anaconda3\\lib\\site-packages\\ipykernel_launcher.py:1: SettingWithCopyWarning: \n",
      "A value is trying to be set on a copy of a slice from a DataFrame.\n",
      "Try using .loc[row_indexer,col_indexer] = value instead\n",
      "\n",
      "See the caveats in the documentation: https://pandas.pydata.org/pandas-docs/stable/user_guide/indexing.html#returning-a-view-versus-a-copy\n",
      "  \"\"\"Entry point for launching an IPython kernel.\n"
     ]
    }
   ],
   "source": [
    "x['height_cms'] = x.height.apply(h_cms)"
   ]
  },
  {
   "cell_type": "code",
   "execution_count": 109,
   "metadata": {},
   "outputs": [
    {
     "name": "stderr",
     "output_type": "stream",
     "text": [
      "C:\\Users\\Swadesh Das\\Anaconda3\\lib\\site-packages\\pandas\\core\\frame.py:3997: SettingWithCopyWarning: \n",
      "A value is trying to be set on a copy of a slice from a DataFrame\n",
      "\n",
      "See the caveats in the documentation: https://pandas.pydata.org/pandas-docs/stable/user_guide/indexing.html#returning-a-view-versus-a-copy\n",
      "  errors=errors,\n"
     ]
    }
   ],
   "source": [
    "x.drop('height', axis = 1, inplace=True)"
   ]
  },
  {
   "cell_type": "code",
   "execution_count": 110,
   "metadata": {},
   "outputs": [
    {
     "data": {
      "text/html": [
       "<div>\n",
       "<style scoped>\n",
       "    .dataframe tbody tr th:only-of-type {\n",
       "        vertical-align: middle;\n",
       "    }\n",
       "\n",
       "    .dataframe tbody tr th {\n",
       "        vertical-align: top;\n",
       "    }\n",
       "\n",
       "    .dataframe thead th {\n",
       "        text-align: right;\n",
       "    }\n",
       "</style>\n",
       "<table border=\"1\" class=\"dataframe\">\n",
       "  <thead>\n",
       "    <tr style=\"text-align: right;\">\n",
       "      <th></th>\n",
       "      <th>gender</th>\n",
       "      <th>religion</th>\n",
       "      <th>caste</th>\n",
       "      <th>mother_tongue</th>\n",
       "      <th>country</th>\n",
       "      <th>height_cms</th>\n",
       "    </tr>\n",
       "  </thead>\n",
       "  <tbody>\n",
       "    <tr>\n",
       "      <th>1</th>\n",
       "      <td>1</td>\n",
       "      <td>2</td>\n",
       "      <td>34</td>\n",
       "      <td>6</td>\n",
       "      <td>19</td>\n",
       "      <td>170.18</td>\n",
       "    </tr>\n",
       "    <tr>\n",
       "      <th>2</th>\n",
       "      <td>1</td>\n",
       "      <td>1</td>\n",
       "      <td>14</td>\n",
       "      <td>8</td>\n",
       "      <td>5</td>\n",
       "      <td>170.18</td>\n",
       "    </tr>\n",
       "    <tr>\n",
       "      <th>3</th>\n",
       "      <td>0</td>\n",
       "      <td>1</td>\n",
       "      <td>36</td>\n",
       "      <td>8</td>\n",
       "      <td>5</td>\n",
       "      <td>152.40</td>\n",
       "    </tr>\n",
       "    <tr>\n",
       "      <th>4</th>\n",
       "      <td>1</td>\n",
       "      <td>0</td>\n",
       "      <td>13</td>\n",
       "      <td>13</td>\n",
       "      <td>5</td>\n",
       "      <td>165.10</td>\n",
       "    </tr>\n",
       "    <tr>\n",
       "      <th>5</th>\n",
       "      <td>1</td>\n",
       "      <td>1</td>\n",
       "      <td>38</td>\n",
       "      <td>8</td>\n",
       "      <td>5</td>\n",
       "      <td>165.10</td>\n",
       "    </tr>\n",
       "  </tbody>\n",
       "</table>\n",
       "</div>"
      ],
      "text/plain": [
       "  gender religion caste mother_tongue country  height_cms\n",
       "1      1        2    34             6      19      170.18\n",
       "2      1        1    14             8       5      170.18\n",
       "3      0        1    36             8       5      152.40\n",
       "4      1        0    13            13       5      165.10\n",
       "5      1        1    38             8       5      165.10"
      ]
     },
     "execution_count": 110,
     "metadata": {},
     "output_type": "execute_result"
    }
   ],
   "source": [
    "x.head()"
   ]
  },
  {
   "cell_type": "code",
   "execution_count": 123,
   "metadata": {},
   "outputs": [],
   "source": [
    "from sklearn.model_selection import train_test_split\n",
    "x_train, x_test, y_train, y_test = train_test_split(x,y,test_size=0.2,random_state=0)"
   ]
  },
  {
   "cell_type": "code",
   "execution_count": 124,
   "metadata": {},
   "outputs": [
    {
     "name": "stderr",
     "output_type": "stream",
     "text": [
      "C:\\Users\\Swadesh Das\\Anaconda3\\lib\\site-packages\\ipykernel_launcher.py:3: DataConversionWarning: A column-vector y was passed when a 1d array was expected. Please change the shape of y to (n_samples,), for example using ravel().\n",
      "  This is separate from the ipykernel package so we can avoid doing imports until\n"
     ]
    }
   ],
   "source": [
    "from sklearn.ensemble import RandomForestRegressor\n",
    "model = RandomForestRegressor(n_estimators=80,max_depth=11)\n",
    "model.fit(x_train,y_train)\n",
    "y_predict = model.predict(x_test)"
   ]
  },
  {
   "cell_type": "code",
   "execution_count": 125,
   "metadata": {},
   "outputs": [],
   "source": [
    "from sklearn.metrics import r2_score"
   ]
  },
  {
   "cell_type": "code",
   "execution_count": 126,
   "metadata": {},
   "outputs": [
    {
     "data": {
      "text/plain": [
       "0.7006784894643914"
      ]
     },
     "execution_count": 126,
     "metadata": {},
     "output_type": "execute_result"
    }
   ],
   "source": [
    "r2_score(y_test, y_predict)"
   ]
  },
  {
   "cell_type": "code",
   "execution_count": 127,
   "metadata": {},
   "outputs": [
    {
     "name": "stderr",
     "output_type": "stream",
     "text": [
      "C:\\Users\\Swadesh Das\\Anaconda3\\lib\\site-packages\\sklearn\\externals\\joblib\\__init__.py:15: FutureWarning: sklearn.externals.joblib is deprecated in 0.21 and will be removed in 0.23. Please import this functionality directly from joblib, which can be installed with: pip install joblib. If this warning is raised when loading pickled models, you may need to re-serialize those models with scikit-learn 0.21+.\n",
      "  warnings.warn(msg, category=FutureWarning)\n"
     ]
    },
    {
     "data": {
      "text/plain": [
       "['marriage_age_predict_model.ml']"
      ]
     },
     "execution_count": 127,
     "metadata": {},
     "output_type": "execute_result"
    }
   ],
   "source": [
    "from sklearn.externals import joblib\n",
    "joblib.dump(model,'marriage_age_predict_model.ml')"
   ]
  },
  {
   "cell_type": "code",
   "execution_count": null,
   "metadata": {},
   "outputs": [],
   "source": []
  }
 ],
 "metadata": {
  "kernelspec": {
   "display_name": "Python 3",
   "language": "python",
   "name": "python3"
  },
  "language_info": {
   "codemirror_mode": {
    "name": "ipython",
    "version": 3
   },
   "file_extension": ".py",
   "mimetype": "text/x-python",
   "name": "python",
   "nbconvert_exporter": "python",
   "pygments_lexer": "ipython3",
   "version": "3.7.6"
  }
 },
 "nbformat": 4,
 "nbformat_minor": 4
}
